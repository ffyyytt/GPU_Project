{
 "cells": [
  {
   "cell_type": "markdown",
   "id": "c349fb93",
   "metadata": {},
   "source": [
    "# General"
   ]
  },
  {
   "cell_type": "code",
   "execution_count": 1,
   "id": "1dc75406",
   "metadata": {
    "scrolled": true
   },
   "outputs": [
    {
     "name": "stdout",
     "output_type": "stream",
     "text": [
      "Mon Dec 26 05:25:31 2022       \n",
      "+-----------------------------------------------------------------------------+\n",
      "| NVIDIA-SMI 442.23       Driver Version: 411.31       CUDA Version: 10.0     |\n",
      "|-------------------------------+----------------------+----------------------+\n",
      "| GPU  Name            TCC/WDDM | Bus-Id        Disp.A | Volatile Uncorr. ECC |\n",
      "| Fan  Temp  Perf  Pwr:Usage/Cap|         Memory-Usage | GPU-Util  Compute M. |\n",
      "|===============================+======================+======================|\n",
      "|   0  GeForce MX130      WDDM  | 00000000:02:00.0 Off |                  N/A |\n",
      "| N/A   53C    P8    N/A / ERR! |     37MiB /  2048MiB |      0%      Default |\n",
      "+-------------------------------+----------------------+----------------------+\n",
      "                                                                               \n",
      "+-----------------------------------------------------------------------------+\n",
      "| Processes:                                                       GPU Memory |\n",
      "|  GPU       PID   Type   Process name                             Usage      |\n",
      "|=============================================================================|\n",
      "|    0     29580    C+G   ...n 6.0\\Monitor\\Common\\Nsight.Monitor.exe N/A      |\n",
      "+-----------------------------------------------------------------------------+\n"
     ]
    }
   ],
   "source": [
    "!nvidia-smi"
   ]
  },
  {
   "cell_type": "code",
   "execution_count": 2,
   "id": "a1cc631e",
   "metadata": {},
   "outputs": [],
   "source": [
    "import os\n",
    "import cv2\n",
    "import math\n",
    "import hashlib\n",
    "import numpy as np\n",
    "import matplotlib.pyplot as plt\n",
    "\n",
    "from tqdm.notebook import *\n",
    "\n",
    "plt.rcParams['figure.figsize'] = [15, 16]"
   ]
  },
  {
   "cell_type": "code",
   "execution_count": 3,
   "id": "0c06ef8f",
   "metadata": {},
   "outputs": [],
   "source": [
    "def timeCapture(cmd, times = 1):\n",
    "    return [float(os.popen(cmd).read().strip()) for i in range(times)]"
   ]
  },
  {
   "cell_type": "code",
   "execution_count": 4,
   "id": "56c2dbf7",
   "metadata": {},
   "outputs": [],
   "source": [
    "time_cpu = timeCapture(\"main images/Chateau.png images/temp.png 1 256 0\", 10)"
   ]
  },
  {
   "cell_type": "code",
   "execution_count": 5,
   "id": "a03cf7c7",
   "metadata": {},
   "outputs": [],
   "source": [
    "time_gpu = timeCapture(\"main images/Chateau.png images/temp.png 1 256 1 8 8 1 8 2 1\", 10)"
   ]
  }
 ],
 "metadata": {
  "kernelspec": {
   "display_name": "Python 3 (ipykernel)",
   "language": "python",
   "name": "python3"
  },
  "language_info": {
   "codemirror_mode": {
    "name": "ipython",
    "version": 3
   },
   "file_extension": ".py",
   "mimetype": "text/x-python",
   "name": "python",
   "nbconvert_exporter": "python",
   "pygments_lexer": "ipython3",
   "version": "3.9.12"
  }
 },
 "nbformat": 4,
 "nbformat_minor": 5
}
